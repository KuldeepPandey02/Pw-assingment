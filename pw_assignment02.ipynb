{
  "nbformat": 4,
  "nbformat_minor": 0,
  "metadata": {
    "colab": {
      "provenance": []
    },
    "kernelspec": {
      "name": "python3",
      "display_name": "Python 3"
    },
    "language_info": {
      "name": "python"
    }
  },
  "cells": [
    {
      "cell_type": "markdown",
      "source": [
        "# 1. what are data structures ? and why are they important?\n",
        "  #Data structures are ways to organize and store data for efficient access and modification.  they help in optimizing performance, memory usage and algorithm efficiency.\n"
      ],
      "metadata": {
        "id": "Oko6H2xvHCMt"
      }
    },
    {
      "cell_type": "markdown",
      "source": [
        "#2. Diffrence between mutable and immutable data types with example:\n",
        "\n",
        "  # Mutable can be changed after creation ,e.g list , dict\n",
        "   \n",
        "   list  = [1,2,3,4]\n",
        "   list [0] = 100\n",
        "   print(\"list\")\n",
        "   [100 ,2, 3, 4]\n",
        "\n",
        " # Immutable cannot be changed, e.g. tuple, str\n",
        "\n",
        "  a = \"kuldeep\"\n",
        "  s[0] = \"k\" # error"
      ],
      "metadata": {
        "id": "ErUdkSVsGpIh"
      }
    },
    {
      "cell_type": "markdown",
      "source": [
        "# 3. Diffrence between lists and tuples:\n",
        "   # Lists are mutable , used[] and, slower.\n",
        "   # Tuples are immutable, faster and used()"
      ],
      "metadata": {
        "id": "c5oAChIJIk-4"
      }
    },
    {
      "cell_type": "markdown",
      "source": [
        "# 4. How dictionaries store data:\n",
        "# Dictionaries store data as key-value pairs using a harsh table mechanism."
      ],
      "metadata": {
        "id": "49L8Gn9pIlLm"
      }
    },
    {
      "cell_type": "markdown",
      "source": [
        "# 5. Why use set instead of list:\n",
        "# sets avoid duplicates and provide faster membership testing using hashing."
      ],
      "metadata": {
        "id": "0g4j2wi9IlY5"
      }
    },
    {
      "cell_type": "markdown",
      "source": [
        "# 6. what is a sting, and how is it different from list:\n",
        "# Strings are immutable sequence of characters\n",
        "# Lists are mutable sequence that can hold any data type.\n"
      ],
      "metadata": {
        "id": "xIUr8vGBMDlQ"
      }
    },
    {
      "cell_type": "markdown",
      "source": [
        "# 7. How do tuples ensure data integrity:\n",
        "# Being immutable, tuple prevent accidental changes to the data.\n"
      ],
      "metadata": {
        "id": "jPNeQvgjMDuX"
      }
    },
    {
      "cell_type": "markdown",
      "source": [
        "#8. What is a hash table (relation to dictionary):\n",
        "  # A hash table maps keys to values using a hash function. python dictionaries are built on hash tables."
      ],
      "metadata": {
        "id": "txaMH4htMD1q"
      }
    },
    {
      "cell_type": "markdown",
      "source": [
        "# 9. Can lists contain different data types?\n",
        " # Yes , python lists can can contain integers, strings, floats, etc.,together."
      ],
      "metadata": {
        "id": "L0cFwiVxZjCl"
      }
    },
    {
      "cell_type": "markdown",
      "source": [
        "# 10.Why Strings are immutable in python:\n",
        "# To improve performance and ensure safety when used in multiple places e.g. key in dictionaries"
      ],
      "metadata": {
        "id": "JxnBa_ZHZjMe"
      }
    },
    {
      "cell_type": "markdown",
      "source": [
        "# 11. Advantages of dictionaries over list:\n",
        "# Faster lookups using keys, better suited for labeled data.\n"
      ],
      "metadata": {
        "id": "I-gJ4N95ZjWo"
      }
    },
    {
      "cell_type": "markdown",
      "source": [
        "# 12. When to use tuple over list:\n",
        "  # when data should not change e.g. coordinates, config."
      ],
      "metadata": {
        "id": "aHWa3oGLgoTM"
      }
    },
    {
      "cell_type": "markdown",
      "source": [
        "# 13. How sets handle duplicates:\n",
        "# Sets automatically discard duplicates.\n"
      ],
      "metadata": {
        "id": "k-xN8E5agodO"
      }
    },
    {
      "cell_type": "markdown",
      "source": [
        "# 14. \"in\" keyword in lists vs dictionaries:\n",
        "  # In list: checks for element presence\n",
        "  # In dict: checks for key presence.\n"
      ],
      "metadata": {
        "id": "24MLAmCBiP--"
      }
    },
    {
      "cell_type": "markdown",
      "source": [
        "# 15. can you modify tuple elements?\n",
        "# No, tuple are immutable.\n"
      ],
      "metadata": {
        "id": "NAo19GV0iQGS"
      }
    },
    {
      "cell_type": "markdown",
      "source": [
        "# 16. What is nested dictionary (example)\n",
        "\n",
        "data ={ \"student\" : {\"name\" : \"Alice\", \"grade\" : \"A\" }}"
      ],
      "metadata": {
        "id": "zGHMmV0ljP7p"
      }
    },
    {
      "cell_type": "markdown",
      "source": [
        "# 17. Time complexity of accessing dictionary elements:\n",
        " # Average : O(1) this is extremely fast,\n",
        " # O(N) : rare worst case"
      ],
      "metadata": {
        "id": "FY7KS7esm0wf"
      }
    },
    {
      "cell_type": "markdown",
      "source": [
        "# 18. When lists are preferred over dictionaries:\n",
        "# list: Preferred for ordered collections, sequenttial data, nuemarical indexing, duplicate elements, and when the position of an item significant.\n",
        "# Dictionaries: Preferred for mapping relationships, fast lookup by a unique key, and when you need to associate value with descriptive labels.\n"
      ],
      "metadata": {
        "id": "GmDwV60Oo4gk"
      }
    },
    {
      "cell_type": "markdown",
      "source": [
        "# 19.why dictionaries are unordered:\n",
        "  # in python version <3.7, order is not preserved . it affects iteration but not key lookup."
      ],
      "metadata": {
        "id": "WlPsLMC0o45C"
      }
    },
    {
      "cell_type": "markdown",
      "source": [
        "# 20. Diffrence in data retrieval (list vs dict):\n",
        "  # lists: retrive data by numerical position(index)\n",
        "    my_list[index] is O(1) very fast\n",
        "    searching for value by content is O(N) (can be slow for large lists).\n",
        "  # Dictionaries: Retrieve data by unique key\n",
        "    my_dict[key] is O(1) on average very fast , uses hashing\n",
        "    Wrosr-case is O(N) but extremly rare in practice due to optimizations."
      ],
      "metadata": {
        "id": "PljCgUDLruD1"
      }
    },
    {
      "cell_type": "code",
      "source": [
        "#1 write a code to create a string with your name and print it.\n",
        "my_name =\"Kuldeep Pandey\"\n",
        "print(my_name)"
      ],
      "metadata": {
        "colab": {
          "base_uri": "https://localhost:8080/"
        },
        "id": "uDOyyo9Rud8y",
        "outputId": "2e77b0de-2075-40df-96ea-9d776f69c7fa"
      },
      "execution_count": null,
      "outputs": [
        {
          "output_type": "stream",
          "name": "stdout",
          "text": [
            "Kuldeep Pandey\n"
          ]
        }
      ]
    },
    {
      "cell_type": "code",
      "source": [
        "#2 Write a code to find the length of the string \"Hello World\"\n",
        "my_string = \"Hello World\"\n",
        "print(len(my_string))"
      ],
      "metadata": {
        "colab": {
          "base_uri": "https://localhost:8080/"
        },
        "id": "hbbXJt-cueEz",
        "outputId": "74dca0ee-ab73-4274-c46c-efdd56695d08"
      },
      "execution_count": null,
      "outputs": [
        {
          "output_type": "stream",
          "name": "stdout",
          "text": [
            "11\n"
          ]
        }
      ]
    },
    {
      "cell_type": "code",
      "source": [
        "#3. Whrite a code to slice the frist 3 characters from the string\n",
        "\"Python Programming\"\n",
        "original_string = \"Python Programming\"\n",
        "sliced_string = original_string[0:3]\n",
        "print(sliced_string)\n"
      ],
      "metadata": {
        "colab": {
          "base_uri": "https://localhost:8080/"
        },
        "id": "NX9popg5ueIU",
        "outputId": "c74bb710-7968-43c0-b6ae-14728acf58d7"
      },
      "execution_count": null,
      "outputs": [
        {
          "output_type": "stream",
          "name": "stdout",
          "text": [
            "Pyt\n"
          ]
        }
      ]
    },
    {
      "cell_type": "code",
      "source": [
        "#4.whrite a code to convert the string \"hello\" to uppercaseP\n",
        "P = \"hello\"\n",
        "print(P.upper())"
      ],
      "metadata": {
        "id": "XiJk2niLuePO",
        "colab": {
          "base_uri": "https://localhost:8080/"
        },
        "outputId": "0b0e2812-c34e-4dba-9b18-9af7c64a46b4"
      },
      "execution_count": null,
      "outputs": [
        {
          "output_type": "stream",
          "name": "stdout",
          "text": [
            "HELLO\n"
          ]
        }
      ]
    },
    {
      "cell_type": "code",
      "source": [
        "#5 Write a code to replace the word \"apple\" with \"orange\" in the string \"I like apple\"\n",
        "print(\"I like apple\".replace(\"apple\", \"orange\"))"
      ],
      "metadata": {
        "id": "YnAMXH3lueUY",
        "colab": {
          "base_uri": "https://localhost:8080/"
        },
        "outputId": "d0367daf-2e4e-499f-a685-5484f56fa77c"
      },
      "execution_count": null,
      "outputs": [
        {
          "output_type": "stream",
          "name": "stdout",
          "text": [
            "I like orange\n"
          ]
        }
      ]
    },
    {
      "cell_type": "code",
      "source": [
        "# 6. Write a code to create a list with number 1 to 5 and print itP\n",
        "my_list = [1,2,3,4,5]\n",
        "print(my_list)"
      ],
      "metadata": {
        "colab": {
          "base_uri": "https://localhost:8080/"
        },
        "id": "T1Nzn-wwDFmi",
        "outputId": "51d5fda7-d9aa-42f5-e76f-dee87f4577fe"
      },
      "execution_count": null,
      "outputs": [
        {
          "output_type": "stream",
          "name": "stdout",
          "text": [
            "[1, 2, 3, 4, 5]\n"
          ]
        }
      ]
    },
    {
      "cell_type": "code",
      "source": [
        "# 7. P write a code to append the number 10 to the list [1,2,3,4]P\n",
        "my_list = [1,2,3,4]\n",
        "my_list.append(10)\n",
        "print(my_list)"
      ],
      "metadata": {
        "colab": {
          "base_uri": "https://localhost:8080/"
        },
        "id": "R9DFfrt6DR6R",
        "outputId": "bbc80344-e5cd-4bc3-e62c-e3c28e3f8d34"
      },
      "execution_count": null,
      "outputs": [
        {
          "output_type": "stream",
          "name": "stdout",
          "text": [
            "[1, 2, 3, 4, 10]\n"
          ]
        }
      ]
    },
    {
      "cell_type": "code",
      "source": [
        "# 8. Write a code to remove the number 3 from the list [1,2,3,4,5].\n",
        "my_list = [1,2,3,4,5]\n",
        "my_list.remove(3)\n",
        "print(my_list)"
      ],
      "metadata": {
        "colab": {
          "base_uri": "https://localhost:8080/"
        },
        "id": "9JiVW1cqDR8y",
        "outputId": "d6eab5e7-45b0-4aea-a405-13200b54fec5"
      },
      "execution_count": null,
      "outputs": [
        {
          "output_type": "stream",
          "name": "stdout",
          "text": [
            "[1, 2, 4, 5]\n"
          ]
        }
      ]
    },
    {
      "cell_type": "code",
      "source": [
        "#9. Write a code to access the second elementin the list['a','b','c','d'].\n",
        "my_list = ['a','b','c','d']\n",
        "print(my_list[1])"
      ],
      "metadata": {
        "colab": {
          "base_uri": "https://localhost:8080/"
        },
        "id": "1SnYyxgGDR_j",
        "outputId": "738efa10-2f69-4f3f-8110-1d757a58373b"
      },
      "execution_count": null,
      "outputs": [
        {
          "output_type": "stream",
          "name": "stdout",
          "text": [
            "b\n"
          ]
        }
      ]
    },
    {
      "cell_type": "code",
      "source": [
        "#10. Whrite a code to reverse the list [10,20,30,40,50].\n",
        "my_list = [10,20,30,40,50]\n",
        "my_list.reverse()\n",
        "print(my_list)"
      ],
      "metadata": {
        "colab": {
          "base_uri": "https://localhost:8080/"
        },
        "id": "LGZgrfhHDSCE",
        "outputId": "492dadc5-673b-4ca6-ec82-9c9f427decbe"
      },
      "execution_count": null,
      "outputs": [
        {
          "output_type": "stream",
          "name": "stdout",
          "text": [
            "[50, 40, 30, 20, 10]\n"
          ]
        }
      ]
    },
    {
      "cell_type": "code",
      "source": [
        "#11. write a code to create a tuple with the elements 100,200,300 and print it.\n",
        "my_tuple = (100,200,300)\n",
        "print(my_tuple)"
      ],
      "metadata": {
        "colab": {
          "base_uri": "https://localhost:8080/"
        },
        "id": "gXzRRCq3DSEn",
        "outputId": "45f96e5e-1589-43b6-b62c-4b1f0d1ab7ff"
      },
      "execution_count": null,
      "outputs": [
        {
          "output_type": "stream",
          "name": "stdout",
          "text": [
            "(100, 200, 300)\n"
          ]
        }
      ]
    },
    {
      "cell_type": "code",
      "source": [
        "#12. Write a code to access the second-to-last element of the tuple('red','green','blue','yellow').\n",
        "my_tuple = ('red','green','blue','yellow')\n",
        "print(my_tuple[-2])\n"
      ],
      "metadata": {
        "colab": {
          "base_uri": "https://localhost:8080/"
        },
        "id": "J9c0LqeBDSH-",
        "outputId": "d5bc8370-5fd5-48f2-8d64-9ac99e8549b3"
      },
      "execution_count": null,
      "outputs": [
        {
          "output_type": "stream",
          "name": "stdout",
          "text": [
            "blue\n"
          ]
        }
      ]
    },
    {
      "cell_type": "code",
      "source": [
        "#13. Write a code a find the minimum number in the tuple(10,20,5,15).\n",
        "my_tuple = (10,20,5,15)\n",
        "print(min(my_tuple))\n"
      ],
      "metadata": {
        "id": "Wi-fqi3IueaA",
        "colab": {
          "base_uri": "https://localhost:8080/"
        },
        "outputId": "294d7395-69c6-484f-fc6c-811fbf9f7762"
      },
      "execution_count": null,
      "outputs": [
        {
          "output_type": "stream",
          "name": "stdout",
          "text": [
            "5\n"
          ]
        }
      ]
    },
    {
      "cell_type": "code",
      "source": [
        "#14.Write a code to find the index of the element \"cat\" in the tuple ('dog', 'cat', 'rabbit').\n",
        "my_tuple = ('dog', 'cat', 'rabbit')\n",
        "print(my_tuple.index('cat'))"
      ],
      "metadata": {
        "id": "mACPvExRGx_y",
        "colab": {
          "base_uri": "https://localhost:8080/"
        },
        "outputId": "dcc6cbc2-5209-4a22-a79b-e396ec927633"
      },
      "execution_count": null,
      "outputs": [
        {
          "output_type": "stream",
          "name": "stdout",
          "text": [
            "1\n"
          ]
        }
      ]
    },
    {
      "cell_type": "code",
      "source": [
        "#15.Write a code to create a tuple containing three different fruits and check if \"kiwi\" is in it.\n",
        "fruits = ('apple', 'banana', 'orange')\n",
        "print('kiwi' in fruits)"
      ],
      "metadata": {
        "id": "dRUqhs3uHfIU",
        "colab": {
          "base_uri": "https://localhost:8080/"
        },
        "outputId": "b5ed0a9b-8245-41a9-8d12-4fca07ab190e"
      },
      "execution_count": null,
      "outputs": [
        {
          "output_type": "stream",
          "name": "stdout",
          "text": [
            "False\n"
          ]
        }
      ]
    },
    {
      "cell_type": "code",
      "source": [
        "#16.Write a code to create a set with the elements 'a', 'b', 'c' and print it.\n",
        "my_set = {'a', 'b', 'c'}\n",
        "print(my_set)\n"
      ],
      "metadata": {
        "id": "2XAQhLXbHfZy",
        "colab": {
          "base_uri": "https://localhost:8080/"
        },
        "outputId": "a48a79a9-e4d0-4737-c8fa-398a4088ec21"
      },
      "execution_count": 32,
      "outputs": [
        {
          "output_type": "stream",
          "name": "stdout",
          "text": [
            "{'b', 'c', 'a'}\n"
          ]
        }
      ]
    },
    {
      "cell_type": "code",
      "source": [
        "#17. Write a code to clear all elements from the set {1, 2, 3, 4, 5}\n",
        "my_set = {1, 2, 3, 4, 5}\n",
        "my_set.clear()\n",
        "print(my_set)"
      ],
      "metadata": {
        "id": "AnnLZaT5uefJ",
        "colab": {
          "base_uri": "https://localhost:8080/"
        },
        "outputId": "6d062a86-dd55-490c-c02c-9c4cbc0e3467"
      },
      "execution_count": 33,
      "outputs": [
        {
          "output_type": "stream",
          "name": "stdout",
          "text": [
            "set()\n"
          ]
        }
      ]
    },
    {
      "cell_type": "code",
      "source": [
        "#18.  Write a code to remove the element 4 from the set {1, 2, 3, 4}.\n",
        "my_set = {1, 2, 3, 4}\n",
        "my_set.remove(4)\n",
        "print(my_set)"
      ],
      "metadata": {
        "colab": {
          "base_uri": "https://localhost:8080/"
        },
        "id": "9rTo_vI6Xt6w",
        "outputId": "0f7781c8-7c00-4b3a-9930-20db0d038732"
      },
      "execution_count": 34,
      "outputs": [
        {
          "output_type": "stream",
          "name": "stdout",
          "text": [
            "{1, 2, 3}\n"
          ]
        }
      ]
    },
    {
      "cell_type": "code",
      "source": [],
      "metadata": {
        "id": "SdkQKUVvYX19"
      },
      "execution_count": null,
      "outputs": []
    },
    {
      "cell_type": "code",
      "source": [
        "#19.  Write a code to find the union of two sets {1, 2, 3} and {3, 4, 5}\n",
        "set1 = {1, 2, 3}\n",
        "set2 = {3, 4, 5}\n",
        "print(set1.union(set2))"
      ],
      "metadata": {
        "colab": {
          "base_uri": "https://localhost:8080/"
        },
        "id": "sSfj4DJjXDKR",
        "outputId": "4ea16504-8f22-47c2-bc12-56baad42231c"
      },
      "execution_count": 35,
      "outputs": [
        {
          "output_type": "stream",
          "name": "stdout",
          "text": [
            "{1, 2, 3, 4, 5}\n"
          ]
        }
      ]
    },
    {
      "cell_type": "code",
      "source": [
        "#20. Write a code to find the intersection of two sets {1, 2, 3} and {2, 3, 4}\n",
        "set1 = {1, 2, 3}\n",
        "set2 = {2, 3, 4}\n",
        "print(set1.intersection(set2))"
      ],
      "metadata": {
        "colab": {
          "base_uri": "https://localhost:8080/"
        },
        "id": "WmZzV0RjXDNw",
        "outputId": "814b5252-2646-4a31-92c3-79ec2228f573"
      },
      "execution_count": 36,
      "outputs": [
        {
          "output_type": "stream",
          "name": "stdout",
          "text": [
            "{2, 3}\n"
          ]
        }
      ]
    },
    {
      "cell_type": "code",
      "source": [
        "# 21. Write a code to create a dictionary with the keys \"name\", \"age\", and print it.\n",
        "my_dict = {'name': 'kuldeep', 'age': 28}\n",
        "print(my_dict)\n"
      ],
      "metadata": {
        "colab": {
          "base_uri": "https://localhost:8080/"
        },
        "id": "SHptxLhKXDTC",
        "outputId": "0b523ad1-97f4-429f-8dce-04927efa6416"
      },
      "execution_count": 37,
      "outputs": [
        {
          "output_type": "stream",
          "name": "stdout",
          "text": [
            "{'name': 'kuldeep', 'age': 28}\n"
          ]
        }
      ]
    },
    {
      "cell_type": "code",
      "source": [
        "#22. Write a code to add a new key-value pair \"country\": \"USA\" to the dictionary {'name': 'John', 'age': 25}\n",
        "my_dict = {'name': 'John', 'age': 25}\n",
        "my_dict['country'] = 'USA'\n",
        "print(my_dict)"
      ],
      "metadata": {
        "colab": {
          "base_uri": "https://localhost:8080/"
        },
        "id": "pHckjx-NYsEf",
        "outputId": "9ecd57f5-48a9-455c-c76e-19b8e387afed"
      },
      "execution_count": 38,
      "outputs": [
        {
          "output_type": "stream",
          "name": "stdout",
          "text": [
            "{'name': 'John', 'age': 25, 'country': 'USA'}\n"
          ]
        }
      ]
    },
    {
      "cell_type": "code",
      "source": [
        "#23.  Write a code to access the value associated with the key \"name\" in the dictionary {'name': 'Alice', 'age': 30}\n",
        "my_dict = {'name': 'Alice', 'age': 30}\n",
        "print(my_dict['name'])\n",
        "print(my_dict['age'])"
      ],
      "metadata": {
        "colab": {
          "base_uri": "https://localhost:8080/"
        },
        "id": "sYH7bk6JZ9DM",
        "outputId": "fa880c52-2921-40da-efb4-b4563fd5cc2f"
      },
      "execution_count": 40,
      "outputs": [
        {
          "output_type": "stream",
          "name": "stdout",
          "text": [
            "Alice\n",
            "30\n"
          ]
        }
      ]
    },
    {
      "cell_type": "code",
      "source": [
        "#24.  Write a code to remove the key \"age\" from the dictionary {'name': 'Bob', 'age': 22, 'city': 'New York'}.\n",
        "my_dict = {'name': 'Bob', 'age': 22, 'city': 'New York'}\n",
        "del my_dict['age']\n",
        "print(my_dict)"
      ],
      "metadata": {
        "colab": {
          "base_uri": "https://localhost:8080/"
        },
        "id": "u3H1sjftZ9Pv",
        "outputId": "6852590b-17ac-4d63-8fce-d7cef549a9f1"
      },
      "execution_count": 41,
      "outputs": [
        {
          "output_type": "stream",
          "name": "stdout",
          "text": [
            "{'name': 'Bob', 'city': 'New York'}\n"
          ]
        }
      ]
    },
    {
      "cell_type": "code",
      "source": [
        "#25. Write a code to check if the key \"city\" exists in the dictionary {'name': 'Alice', 'city': 'Paris'}.\n",
        "my_dict = {'name': 'Alice', 'city': 'Paris'}\n",
        "print('city' in my_dict)"
      ],
      "metadata": {
        "colab": {
          "base_uri": "https://localhost:8080/"
        },
        "id": "vJyf0d3IaqTj",
        "outputId": "3047cd12-32a9-4cdf-dd2c-7222100d4d82"
      },
      "execution_count": 42,
      "outputs": [
        {
          "output_type": "stream",
          "name": "stdout",
          "text": [
            "True\n"
          ]
        }
      ]
    },
    {
      "cell_type": "code",
      "source": [
        "#26. Write a code to create a list, a tuple, and a dictionary, and print them all\n",
        "my_list = [1, 2, 3]\n",
        "my_tuple = (4, 5, 6)\n",
        "my_dict = {'a': 1, 'b': 2, 'c': 3}\n",
        "print(my_list)\n",
        "print(my_tuple)\n",
        "print(my_dict)"
      ],
      "metadata": {
        "colab": {
          "base_uri": "https://localhost:8080/"
        },
        "id": "Izd6FQyHaqeg",
        "outputId": "7606b20d-f533-485f-a676-7c852a651cf6"
      },
      "execution_count": 48,
      "outputs": [
        {
          "output_type": "stream",
          "name": "stdout",
          "text": [
            "[1, 2, 3]\n",
            "(4, 5, 6)\n",
            "{'a': 1, 'b': 2, 'c': 3}\n"
          ]
        }
      ]
    },
    {
      "cell_type": "code",
      "source": [
        "#27. Write a code to create a list of 5 random numbers between 1 and 100, sort it in ascending order, and print the result(replaced).\n",
        "import random\n",
        "random_list = [random.randint(1, 100) for _ in range(5)]\n",
        "random_list.sort()\n",
        "print(random_list)"
      ],
      "metadata": {
        "colab": {
          "base_uri": "https://localhost:8080/"
        },
        "id": "BmPy7EZ3YsMR",
        "outputId": "ca242866-2b32-43cf-f1e2-0965218e8c17"
      },
      "execution_count": 49,
      "outputs": [
        {
          "output_type": "stream",
          "name": "stdout",
          "text": [
            "[5, 32, 39, 70, 89]\n"
          ]
        }
      ]
    },
    {
      "cell_type": "code",
      "source": [
        "#28. Write a code to create a list with strings and print the element at the third index.\n",
        "my_list = ['apple', 'banana', 'cherry', 'date', 'elderberry']\n",
        "print(my_list[2])"
      ],
      "metadata": {
        "colab": {
          "base_uri": "https://localhost:8080/"
        },
        "id": "nwTktA3-cQ_Q",
        "outputId": "7d514c09-d720-47a0-bea6-b27ed3350ffb"
      },
      "execution_count": 50,
      "outputs": [
        {
          "output_type": "stream",
          "name": "stdout",
          "text": [
            "cherry\n"
          ]
        }
      ]
    },
    {
      "cell_type": "code",
      "source": [
        "#29.  Write a code to combine two dictionaries into one and print the result.\n",
        "dict1 = {'a': 1, 'b': 2}\n",
        "dict2 = {'c': 3, 'd': 4}\n",
        "combined_dict = {**dict1, **dict2}\n",
        "print(combined_dict)"
      ],
      "metadata": {
        "colab": {
          "base_uri": "https://localhost:8080/"
        },
        "id": "Hvsi7pPAcRMx",
        "outputId": "15e8a600-9ff1-4321-e0a5-182f89ff1a40"
      },
      "execution_count": 51,
      "outputs": [
        {
          "output_type": "stream",
          "name": "stdout",
          "text": [
            "{'a': 1, 'b': 2, 'c': 3, 'd': 4}\n"
          ]
        }
      ]
    },
    {
      "cell_type": "code",
      "source": [
        "#30. Write a code to convert a list of strings into a set.\n",
        "my_list = ['Ramesh', 'Suresh', 'Ganesh', 'Mahesh']\n",
        "my_set = set(my_list)\n",
        "print(my_set)"
      ],
      "metadata": {
        "colab": {
          "base_uri": "https://localhost:8080/"
        },
        "id": "mm1NKDFmXDWW",
        "outputId": "2efa7b2a-003e-4b00-dfd4-eb64d3815936"
      },
      "execution_count": 53,
      "outputs": [
        {
          "output_type": "stream",
          "name": "stdout",
          "text": [
            "{'Suresh', 'Mahesh', 'Ramesh', 'Ganesh'}\n"
          ]
        }
      ]
    }
  ]
}