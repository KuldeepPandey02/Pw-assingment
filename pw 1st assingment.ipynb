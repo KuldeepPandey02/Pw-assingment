{
  "nbformat": 4,
  "nbformat_minor": 0,
  "metadata": {
    "colab": {
      "provenance": []
    },
    "kernelspec": {
      "name": "python3",
      "display_name": "Python 3"
    },
    "language_info": {
      "name": "python"
    }
  },
  "cells": [
    {
      "cell_type": "markdown",
      "source": [
        "#what is python, and why is it popular?\n",
        "#python is a programimg language ,it's popular due to its versatality and large community."
      ],
      "metadata": {
        "id": "4jjr9JmgX3he"
      }
    },
    {
      "cell_type": "markdown",
      "source": [],
      "metadata": {
        "id": "lmIK4O3vX3eC"
      }
    },
    {
      "cell_type": "markdown",
      "source": [
        "#what is an interpreter in python?\n",
        "\n",
        "#python uses an interpreter to convert code into machine language at runtime.\n"
      ],
      "metadata": {
        "id": "QAqQEQu9X3ad"
      }
    },
    {
      "cell_type": "markdown",
      "source": [
        "#what are pre-defined keywords in python?\n",
        "\n",
        "#keywords are reseverved words that havee special meaning, like if, true, flase etc.\n",
        "\n"
      ],
      "metadata": {
        "id": "1G-FB94UX3Wi"
      }
    },
    {
      "cell_type": "markdown",
      "source": [
        "#can keywords be used as variable name?\n",
        "\n",
        "#No"
      ],
      "metadata": {
        "id": "Fc6dPO_2X3Sz"
      }
    },
    {
      "cell_type": "markdown",
      "source": [
        "#what is mutability in python?\n",
        "\n",
        "#mutability refer to an object's ability to be changed after creation."
      ],
      "metadata": {
        "id": "bvwc0ispX3Hu"
      }
    },
    {
      "cell_type": "markdown",
      "source": [
        "#why are lists mutable, but tuples are immutable?\n",
        "#lists are desinged to be flexible and allow to change but tuple are for fixed colletion."
      ],
      "metadata": {
        "id": "mYozmjqKX21M"
      }
    },
    {
      "cell_type": "markdown",
      "source": [
        "#what is the diffrence between \"==\" and \"is\" operation in python?\n",
        "#== check for valve equality\n",
        "#is check for identity"
      ],
      "metadata": {
        "id": "RgAuyEbIXzEx"
      }
    },
    {
      "cell_type": "markdown",
      "source": [
        "#what are logical operators in python?\n",
        "#and, or, not, is logical operators."
      ],
      "metadata": {
        "id": "pn1y8F9ndMSK"
      }
    },
    {
      "cell_type": "markdown",
      "source": [
        "#what is type casting in python?\n",
        "#Type casting is refers for converting one data type to another."
      ],
      "metadata": {
        "id": "j0ifN9MCdMix"
      }
    },
    {
      "cell_type": "markdown",
      "source": [
        "#what is the diffrence between implicit and explicit type casting?\n",
        "#implicit- automatically done by python e.g -int+ flot=flot\n",
        "#explicit- done by manually using by funtion e.g- int() , float()"
      ],
      "metadata": {
        "id": "IaqIVKRtdM9H"
      }
    },
    {
      "cell_type": "markdown",
      "source": [
        "#what is the purpose of conditional statements in python?\n",
        "#conditional statements allow decisions and branching based condition e.g. if , elif, else\n"
      ],
      "metadata": {
        "id": "wG70z2PDe0yq"
      }
    },
    {
      "cell_type": "markdown",
      "source": [
        "#how does the elif statement work?\n",
        "#elif lets you check multiple conditions after an if and before else.\n"
      ],
      "metadata": {
        "id": "xSMPDK48f5fP"
      }
    },
    {
      "cell_type": "markdown",
      "source": [
        "#what is the difference between for and while loops?\n",
        "#for- iterates over a sequence\n",
        "#while-repeats as long as condition is true\n",
        "\n",
        "\n"
      ],
      "metadata": {
        "id": "wGPrWhTugpG_"
      }
    },
    {
      "cell_type": "markdown",
      "source": [
        "#scenario for while loope use:\n",
        "#use while when the number of iterations ist'n known, like reading input until the user type \"exist\"."
      ],
      "metadata": {
        "id": "vVcWFC8DgpWX"
      }
    },
    {
      "cell_type": "markdown",
      "source": [],
      "metadata": {
        "id": "q5Zx4mzTf5rQ"
      }
    },
    {
      "cell_type": "code",
      "source": [
        "#1. print \"hello, world !\"\n",
        "print(\"hello, World !\")"
      ],
      "metadata": {
        "colab": {
          "base_uri": "https://localhost:8080/"
        },
        "id": "mubCgNB1i3sz",
        "outputId": "860caf58-184f-45b7-e3d4-eb9d0b0c96c6"
      },
      "execution_count": null,
      "outputs": [
        {
          "output_type": "stream",
          "name": "stdout",
          "text": [
            "hello, World !\n"
          ]
        }
      ]
    },
    {
      "cell_type": "code",
      "source": [
        "#2. display your name and age\n",
        "name = \"Kuldeep\"\n",
        "age = 28\n",
        "print(\"Name\", name)\n",
        "print(\"Age\", age)"
      ],
      "metadata": {
        "colab": {
          "base_uri": "https://localhost:8080/"
        },
        "id": "Ap-Ucdpfi3nK",
        "outputId": "99622d72-3b61-458f-bc07-dfc5500e6950"
      },
      "execution_count": null,
      "outputs": [
        {
          "output_type": "stream",
          "name": "stdout",
          "text": [
            "Name Kuldeep\n",
            "Age 28\n"
          ]
        }
      ]
    },
    {
      "cell_type": "code",
      "source": [
        "#3. print all python keyword\n",
        "import keyword\n",
        "print(keyword.kwlist)"
      ],
      "metadata": {
        "colab": {
          "base_uri": "https://localhost:8080/"
        },
        "id": "uZiHvtKpi3js",
        "outputId": "416a0ce3-d9ed-4081-d570-884ea869715f"
      },
      "execution_count": null,
      "outputs": [
        {
          "output_type": "stream",
          "name": "stdout",
          "text": [
            "['False', 'None', 'True', 'and', 'as', 'assert', 'async', 'await', 'break', 'class', 'continue', 'def', 'del', 'elif', 'else', 'except', 'finally', 'for', 'from', 'global', 'if', 'import', 'in', 'is', 'lambda', 'nonlocal', 'not', 'or', 'pass', 'raise', 'return', 'try', 'while', 'with', 'yield']\n"
          ]
        }
      ]
    },
    {
      "cell_type": "code",
      "source": [
        "#4.check if a word is a python keyword\n",
        "word = input(\"Enter a word : \")\n",
        "if keyword.iskeyword(word):\n",
        "  print(word, \"is a python keyword\")\n",
        "else:\n",
        "  print(word, \"is not a python keyword\")\n"
      ],
      "metadata": {
        "colab": {
          "base_uri": "https://localhost:8080/",
          "height": 228
        },
        "id": "rVKKJdcEi3gE",
        "outputId": "51e8c3a5-6475-436b-edc4-3e262ef24e13"
      },
      "execution_count": 14,
      "outputs": [
        {
          "name": "stdout",
          "output_type": "stream",
          "text": [
            "Enter a word : python\n"
          ]
        },
        {
          "output_type": "error",
          "ename": "NameError",
          "evalue": "name 'keyword' is not defined",
          "traceback": [
            "\u001b[0;31m---------------------------------------------------------------------------\u001b[0m",
            "\u001b[0;31mNameError\u001b[0m                                 Traceback (most recent call last)",
            "\u001b[0;32m/tmp/ipython-input-14-1212750793.py\u001b[0m in \u001b[0;36m<cell line: 0>\u001b[0;34m()\u001b[0m\n\u001b[1;32m      1\u001b[0m \u001b[0;31m#4.check if a word is a python keyword\u001b[0m\u001b[0;34m\u001b[0m\u001b[0;34m\u001b[0m\u001b[0m\n\u001b[1;32m      2\u001b[0m \u001b[0mword\u001b[0m \u001b[0;34m=\u001b[0m \u001b[0minput\u001b[0m\u001b[0;34m(\u001b[0m\u001b[0;34m\"Enter a word : \"\u001b[0m\u001b[0;34m)\u001b[0m\u001b[0;34m\u001b[0m\u001b[0;34m\u001b[0m\u001b[0m\n\u001b[0;32m----> 3\u001b[0;31m \u001b[0;32mif\u001b[0m \u001b[0mkeyword\u001b[0m\u001b[0;34m.\u001b[0m\u001b[0miskeyword\u001b[0m\u001b[0;34m(\u001b[0m\u001b[0mword\u001b[0m\u001b[0;34m)\u001b[0m\u001b[0;34m:\u001b[0m\u001b[0;34m\u001b[0m\u001b[0;34m\u001b[0m\u001b[0m\n\u001b[0m\u001b[1;32m      4\u001b[0m   \u001b[0mprint\u001b[0m\u001b[0;34m(\u001b[0m\u001b[0mword\u001b[0m\u001b[0;34m,\u001b[0m \u001b[0;34m\"is a python keyword\"\u001b[0m\u001b[0;34m)\u001b[0m\u001b[0;34m\u001b[0m\u001b[0;34m\u001b[0m\u001b[0m\n\u001b[1;32m      5\u001b[0m \u001b[0;32melse\u001b[0m\u001b[0;34m:\u001b[0m\u001b[0;34m\u001b[0m\u001b[0;34m\u001b[0m\u001b[0m\n",
            "\u001b[0;31mNameError\u001b[0m: name 'keyword' is not defined"
          ]
        }
      ]
    },
    {
      "cell_type": "code",
      "source": [
        "#5.\n",
        "my_list=[1,2,3,4]\n",
        "my_tuple=(1,2,3,4)\n",
        "\n",
        "my_list[0] = 10\n",
        "print(\"List\" ,my_list)\n",
        "print(\"Tuple\" , my_tuple)\n",
        "\n"
      ],
      "metadata": {
        "colab": {
          "base_uri": "https://localhost:8080/"
        },
        "id": "KTHrScICi3cX",
        "outputId": "2e9a863a-1107-4df0-91dc-5618843a2b82"
      },
      "execution_count": null,
      "outputs": [
        {
          "output_type": "stream",
          "name": "stdout",
          "text": [
            "List [10, 2, 3, 4]\n",
            "Tuple (1, 2, 3, 4)\n"
          ]
        }
      ]
    },
    {
      "cell_type": "code",
      "source": [
        "#6. Mutable and immutable argument behaviour\n",
        "def modify_args(a_list, a_number) :\n",
        "   a_list.append(50)\n",
        "   a_number +=5\n",
        "   return my_list, a_number\n",
        "my_list =[1,2]\n",
        "my_number = 3\n",
        "print(modify_args(my_list, my_number))\n",
        "print(my_list, my_number)\n",
        "\n"
      ],
      "metadata": {
        "colab": {
          "base_uri": "https://localhost:8080/"
        },
        "id": "HsXhSv_Vi3ZB",
        "outputId": "6852d6bb-0a38-4587-8f76-1bb8301015de"
      },
      "execution_count": null,
      "outputs": [
        {
          "output_type": "stream",
          "name": "stdout",
          "text": [
            "([1, 2, 50], 8)\n",
            "[1, 2, 50] 3\n"
          ]
        }
      ]
    },
    {
      "cell_type": "code",
      "source": [
        "#7. arithmetic operations\n",
        "x = float(input(\"enter first number:\"))\n",
        "y = float(input(\"enter second number\"))\n",
        "print(\"Addition\", x+y)\n",
        "print(\"Subtraction\", x-y)\n",
        "print(\"Multiplication\", x*y)\n",
        "print(\"Division\", x/y)"
      ],
      "metadata": {
        "colab": {
          "base_uri": "https://localhost:8080/"
        },
        "id": "N-hDW2YIi3VD",
        "outputId": "df00d9d7-5750-4483-8fdc-5a45658f618f"
      },
      "execution_count": null,
      "outputs": [
        {
          "output_type": "stream",
          "name": "stdout",
          "text": [
            "enter first number:10\n",
            "enter second number2\n",
            "Addition 12.0\n",
            "Subtraction 8.0\n",
            "Multiplication 20.0\n",
            "Division 5.0\n"
          ]
        }
      ]
    },
    {
      "cell_type": "code",
      "source": [
        "#8. logical operators\n",
        "a = True\n",
        "b = False\n",
        "print(\"AND\", a and b)\n",
        "print(\"OR\", a or b)\n",
        "print(\"NOT\", not a)"
      ],
      "metadata": {
        "colab": {
          "base_uri": "https://localhost:8080/"
        },
        "id": "E84qSxxMi3OR",
        "outputId": "ac913cc9-418a-465b-ee59-5a7fdbeb5bf3"
      },
      "execution_count": null,
      "outputs": [
        {
          "output_type": "stream",
          "name": "stdout",
          "text": [
            "AND False\n",
            "OR True\n",
            "NOT False\n"
          ]
        }
      ]
    },
    {
      "cell_type": "code",
      "source": [
        "#9. type conversion from string\n",
        "s = input(\"enter a valve: \")\n",
        "print(\"As int:\", int(s))\n",
        "print(\"As float:\", float(s))\n",
        "print(\"As bool:\", bool(s))"
      ],
      "metadata": {
        "colab": {
          "base_uri": "https://localhost:8080/"
        },
        "id": "zyExH2K3z1aH",
        "outputId": "f32a07dc-76f9-4e52-b448-f69283d8005a"
      },
      "execution_count": 1,
      "outputs": [
        {
          "output_type": "stream",
          "name": "stdout",
          "text": [
            "enter a valve:  10\n",
            "As int: 10\n"
          ]
        }
      ]
    },
    {
      "cell_type": "code",
      "source": [
        "#10. type casting with list\n",
        "list=['1', '2', '3']\n",
        "int_list =[int(i) for i in list]\n",
        "print(int_list)"
      ],
      "metadata": {
        "id": "gSct0PfZz1qo",
        "colab": {
          "base_uri": "https://localhost:8080/"
        },
        "outputId": "16d183ad-b9ef-400d-825c-618fa5d632a8"
      },
      "execution_count": 6,
      "outputs": [
        {
          "output_type": "stream",
          "name": "stdout",
          "text": [
            "[1, 2, 3]\n"
          ]
        }
      ]
    },
    {
      "cell_type": "code",
      "source": [
        "#11. check if number is positive negative , or zero\n",
        "num = float(input(\"Enter a number: \"))\n",
        "if num > 0:\n",
        "   print(\"Positive number\")\n",
        "elif num == 0:\n",
        "   print(\"Zero\")\n",
        "else:\n",
        "   print(\"Negative number\")"
      ],
      "metadata": {
        "id": "RPko21v0i2jn",
        "colab": {
          "base_uri": "https://localhost:8080/"
        },
        "outputId": "d1450c9d-b2d8-40e3-b70d-6dcaa1f6ceba"
      },
      "execution_count": 7,
      "outputs": [
        {
          "output_type": "stream",
          "name": "stdout",
          "text": [
            "Enter a number: 4\n",
            "Positive number\n"
          ]
        }
      ]
    },
    {
      "cell_type": "code",
      "source": [
        "#12. print number from 1 to 10\n",
        "for i in range(1,10):\n",
        "  print(i)"
      ],
      "metadata": {
        "colab": {
          "base_uri": "https://localhost:8080/"
        },
        "id": "TkRzYn3r1zev",
        "outputId": "f8694e6d-9d79-4dfa-87e0-f8205a9e9a66"
      },
      "execution_count": 8,
      "outputs": [
        {
          "output_type": "stream",
          "name": "stdout",
          "text": [
            "1\n",
            "2\n",
            "3\n",
            "4\n",
            "5\n",
            "6\n",
            "7\n",
            "8\n",
            "9\n"
          ]
        }
      ]
    },
    {
      "cell_type": "code",
      "source": [
        "#13 sum of even number from 1 to 50\n",
        "total = sum(i for i in range(1,51) if i%2==0)\n",
        "print(\"sum of even number: \", total)\n",
        ""
      ],
      "metadata": {
        "colab": {
          "base_uri": "https://localhost:8080/"
        },
        "id": "jPsUnw6V2CYi",
        "outputId": "a197e877-b2e2-4864-ff72-9376bd1a6460"
      },
      "execution_count": 9,
      "outputs": [
        {
          "output_type": "stream",
          "name": "stdout",
          "text": [
            "sum of even number:  650\n"
          ]
        }
      ]
    },
    {
      "cell_type": "code",
      "source": [
        "#14. reverse string using while loop\n",
        "s = input(\"Enter a string: \")\n",
        "i = len(s) - 1\n",
        "reversed_string = \"\"\n",
        "while i >= 0:\n",
        "   reversed_string += s[i]\n",
        "   i -= 1\n",
        "print(\"Reversed string:\", reversed_string)"
      ],
      "metadata": {
        "colab": {
          "base_uri": "https://localhost:8080/"
        },
        "id": "C-3NxLEX2xDm",
        "outputId": "58a7fbce-5747-4ff8-8ae7-327bc79091f2"
      },
      "execution_count": 10,
      "outputs": [
        {
          "output_type": "stream",
          "name": "stdout",
          "text": [
            "Enter a string: int\n",
            "Reversed string: tni\n"
          ]
        }
      ]
    },
    {
      "cell_type": "code",
      "source": [
        "#15. factorial using while loop\n",
        "num = int(input(\"Enter a number: \"))\n",
        "factorial = 1\n",
        "i = 1\n",
        "while i <= num:\n",
        "   factorial *= i\n",
        "   i += 1\n",
        "print(f\"The factorial of {num} is {factorial}\")"
      ],
      "metadata": {
        "colab": {
          "base_uri": "https://localhost:8080/"
        },
        "id": "VU-zQ18o2xWc",
        "outputId": "011a1965-2337-4a1c-e798-1c07a4255c8f"
      },
      "execution_count": 11,
      "outputs": [
        {
          "output_type": "stream",
          "name": "stdout",
          "text": [
            "Enter a number: 15\n",
            "The factorial of 15 is 1307674368000\n"
          ]
        }
      ]
    }
  ]
}