{
  "nbformat": 4,
  "nbformat_minor": 0,
  "metadata": {
    "colab": {
      "provenance": []
    },
    "kernelspec": {
      "name": "python3",
      "display_name": "Python 3"
    },
    "language_info": {
      "name": "python"
    }
  },
  "cells": [
    {
      "cell_type": "markdown",
      "source": [
        "#1. What is Object-Oriented Programming OOP?\n",
        "   \n",
        "   Object-Oriented Programming (OOP) is a programming paradigm based on the concept of \"objects\", which can contain data (attributes) and code (methods). OOP promotes code reusability, modularity, and abstraction by organizing software design around data, or objects, rather than functions and logic. This approach makes it easier to manage complex programs, encourages reuse, and improves maintainability."
      ],
      "metadata": {
        "id": "sJtPmsBAJ7V3"
      }
    },
    {
      "cell_type": "markdown",
      "source": [
        "# 2. What is a class in OOP?\n",
        "\n",
        "A class in Object-Oriented Programming (OOP) is a blueprint or template for creating objects. It defines the attributes (data) and methods (functions) that the objects created from the class will have. Classes enable code reusability and modularity by encapsulating related properties and behaviors.\n",
        "\n",
        "  \n"
      ],
      "metadata": {
        "id": "l81kOEYrJ7bf"
      }
    },
    {
      "cell_type": "markdown",
      "source": [
        "#3. What is an object in OOP?\n",
        "\n",
        "An object in OOP is an instance of a class that contains data (attributes) and functions (methods) to operate on that data.\n",
        "\n",
        "Think of it as a real-world entity represented in code.\n",
        "\n"
      ],
      "metadata": {
        "id": "3mqHSwPOJ7hw"
      }
    },
    {
      "cell_type": "markdown",
      "source": [
        "#4. What is the difference between abstraction and encapsulation?\n",
        "Abstraction hides implementation details and shows only essential features to\n",
        "the user.Abstraction focuses on what to do, while encapsulation focuses on how to protect data.\n",
        "\n",
        "Encapsulation binds data and methods together and restricts direct access to some parts of the object.\n",
        "\n"
      ],
      "metadata": {
        "id": "DGKPIQGAJ7kf"
      }
    },
    {
      "cell_type": "markdown",
      "source": [
        "#5. What are dunder methods in Python?\n",
        "  **Dunder methods** in Python (short for **\"double underscore\" methods**) are special methods with names like `__init__`, `__str__`, `__len__`, etc.\n",
        "\n",
        "They are used to define **how objects behave** with built-in functions or operators (also called magic methods).\n",
        "\n"
      ],
      "metadata": {
        "id": "NSH5fHfNJ7pn"
      }
    },
    {
      "cell_type": "markdown",
      "source": [
        "# 6. Explain the concept of inheritence in OOP.\n",
        "\n",
        "\n"
      ],
      "metadata": {
        "id": "G74G1eRlJ7s2"
      }
    },
    {
      "cell_type": "markdown",
      "source": [],
      "metadata": {
        "id": "5FBLWNg3J7zQ"
      }
    },
    {
      "cell_type": "markdown",
      "source": [],
      "metadata": {
        "id": "dlyWMf45J72_"
      }
    },
    {
      "cell_type": "markdown",
      "source": [],
      "metadata": {
        "id": "o3DvYotyJ75w"
      }
    },
    {
      "cell_type": "markdown",
      "source": [],
      "metadata": {
        "id": "bietLCAJJ79Q"
      }
    },
    {
      "cell_type": "markdown",
      "source": [],
      "metadata": {
        "id": "vIbi2q6zJ8Av"
      }
    },
    {
      "cell_type": "markdown",
      "metadata": {
        "id": "56a09c73"
      },
      "source": [
        "# 6. Explain the concept of inheritence in OOP.\n",
        "\n",
        "**Inheritance** is a fundamental concept in Object-Oriented Programming (OOP) that allows a class to inherit properties and behaviors from another class. This creates a hierarchical relationship between classes, where a **subclass** (or derived class) inherits from a **superclass** (or base class).\n",
        "\n",
        "\n"
      ]
    },
    {
      "cell_type": "markdown",
      "source": [
        "# 7. 7. What is polymorphism in OOP?\n"
      ],
      "metadata": {
        "id": "pIPWte9qc7Zz"
      }
    },
    {
      "cell_type": "markdown",
      "metadata": {
        "id": "093bfe00"
      },
      "source": [
        "# 7. What is polymorphism in OOP?\n",
        "\n",
        "**Polymorphism** in Object-Oriented Programming (OOP) means \"many forms\". It is the ability of different objects to respond to the same method call in their own way. In simpler terms, it allows you to treat objects of different classes in a uniform manner.\n"
      ]
    },
    {
      "cell_type": "markdown",
      "source": [
        "# 8. How is encapsulation achieved in Python?\n"
      ],
      "metadata": {
        "id": "hgP4NqNld-nt"
      }
    },
    {
      "cell_type": "markdown",
      "source": [],
      "metadata": {
        "id": "RGiMb5Xsd-2I"
      }
    },
    {
      "cell_type": "markdown",
      "source": [],
      "metadata": {
        "id": "YSbabF2Wd--c"
      }
    },
    {
      "cell_type": "markdown",
      "metadata": {
        "id": "2f596178"
      },
      "source": [
        "# 8. How is encapsulation achieved in Python?\n",
        "\n",
        "Encapsulation in Python is primarily achieved through:\n",
        "\n",
        " Access modifiers using naming conventions:\n",
        "\n",
        "public: No underscore (e.g., name) – accessible everywhere\n",
        "\n",
        "_protected: Single underscore (e.g., _name) – meant for internal use (by convention)\n",
        "\n",
        "__private: Double underscore (e.g., __name) – name mangling to restrict access\n",
        "\n",
        "\n"
      ]
    },
    {
      "cell_type": "markdown",
      "metadata": {
        "id": "3d4d211d"
      },
      "source": [
        "# 9. What is a constructor in Python?\n",
        "\n",
        "In Python, a constructor is a special method within a class that is automatically called when you create a new object (instance) of that class. Its primary purpose is to initialize the object's attributes (data members) with initial values.\n",
        "\n",
        "The constructor method in Python is always named `__init__`. The double underscores at the beginning and end indicate that it is a special method (dunder method).\n"
      ]
    },
    {
      "cell_type": "markdown",
      "source": [
        "10. What are class and static method?\n"
      ],
      "metadata": {
        "id": "wYSNkiSMhsNd"
      }
    },
    {
      "cell_type": "markdown",
      "source": [],
      "metadata": {
        "id": "9wVj7mQuhsb-"
      }
    },
    {
      "cell_type": "markdown",
      "source": [],
      "metadata": {
        "id": "1mS00evAhsol"
      }
    },
    {
      "cell_type": "markdown",
      "metadata": {
        "id": "cdd41461"
      },
      "source": [
        "# 10. What are class and static methods?\n",
        "\n",
        "classmethod\n",
        "* Takes cls (the class) as the first argument, not self.\n",
        "\n",
        "* Can access or modify class-level data.\n",
        "\n",
        "* Called on the class or an instance.\n",
        "\n",
        "* Used to create factory methods or change class state.\n",
        "\n",
        "staticmethod\n",
        "* Doesn’t take self or cls as the first argument.\n",
        "\n",
        "* Can’t access or modify class or instance data.\n",
        "\n",
        "* Behaves like a regular function but is placed inside a class for logical grouping.\n",
        "\n"
      ]
    },
    {
      "cell_type": "markdown",
      "source": [
        "# 11. What is method overloading in Python?\n",
        "\n",
        "**Method overloading** means defining **multiple methods with the same name** but **different parameters**.\n",
        "\n",
        "*  **Python does not support traditional method overloading** like Java or C++.\n",
        "* If you define multiple methods with the same name, **only the last one** will be used.\n",
        "\n"
      ],
      "metadata": {
        "id": "A8pvTF_ejFqT"
      }
    },
    {
      "cell_type": "markdown",
      "source": [
        "#12. What is method overriding in Python?\n",
        "Method overriding means redefining a method in a child class that already exists in the parent class.\n",
        "\n",
        "* Used when you want a different behavior for the same method in a subclass.\n",
        "* The method name and parameters must be the same as in the parent class.\n",
        "\n"
      ],
      "metadata": {
        "id": "WZNFwHf5jF4P"
      }
    },
    {
      "cell_type": "markdown",
      "source": [
        "# 13. What is property decorator in Python?\n",
        "The property decorator is used to turn a method into a read-only attribute.\n",
        "\n",
        "* It allows you to access methods like attributes, without using parentheses.\n",
        "* Often used for getter, setter, and deleter methods to manage access to private variables.\n"
      ],
      "metadata": {
        "id": "3q7UdhnhjGG5"
      }
    },
    {
      "cell_type": "markdown",
      "source": [
        "# 14. Why is polymorphism important in OOP?\n",
        "Polymorphism means \"many forms\" — it allows the same method name to behave differently based on the object calling it.\n",
        "\n",
        "*Code Reusability: Write one interface or method, and use it with different object types.\n",
        "\n",
        "*Flexibility and Scalability: Easily extend code without modifying existing logic.\n",
        "\n",
        "*Cleaner Code: Promotes writing general-purpose functions that work across various classes.\n"
      ],
      "metadata": {
        "id": "HBpLwFJSjGQ9"
      }
    },
    {
      "cell_type": "markdown",
      "source": [
        "# 15.  What is an abstract class in Python?\n",
        "An abstract class is a class that cannot be instantiated and is meant to be inherited by other classes.\n",
        "It defines a common interface (method names) but may leave the implementation to child classes.\n",
        "\n",
        "* Created using the abc module (Abstract Base Class)\n",
        "\n",
        "* Use @abstractmethod to declare methods that must be overridden\n",
        "\n",
        "* Ensures a consistent structure across subclasses\n",
        "\n",
        "\n",
        "\n"
      ],
      "metadata": {
        "id": "eGTqN7ABnA7R"
      }
    },
    {
      "cell_type": "markdown",
      "source": [
        "# 16. What are the advantages of OOP?\n",
        "* Modularity – Code is organized into classes and objects, making it easier to manage and understand.\n",
        "\n",
        "* Reusability – You can reuse classes across different programs using inheritance.\n",
        "\n",
        "* Encapsulation – Protects data by restricting direct access, improving security and flexibility.\n",
        "\n",
        "* Abstraction – Hides complex implementation details and shows only the necessary parts to the user.\n",
        "\n",
        "* Polymorphism – Allows the same method to behave differently for different objects, enhancing flexibility.\n",
        "\n",
        "* Easy Maintenance & Scalability – OOP makes it easier to update, modify, or extend code without affecting other parts.\n",
        "\n"
      ],
      "metadata": {
        "id": "eiKrtCx5nBIH"
      }
    },
    {
      "cell_type": "markdown",
      "source": [
        "# 17. What is the difference between a class variable and an instance variable?\n",
        "* Class variables are shared by all instances of a class and are defined outside methods.\n",
        "* Instance variables are unique to each object and are defined inside methods like `__init__`.\n",
        "Class variables store common data; instance variables store object-specific data.\n"
      ],
      "metadata": {
        "id": "0ePttR-SnBRY"
      }
    },
    {
      "cell_type": "markdown",
      "source": [
        "# 18. What is multiple inheritance in Python?\n",
        "Multiple inheritance is an object-oriented programming feature where a single class can inherit attributes and methods from more than one parent class.\n",
        "\n",
        "In Python, this allows a subclass to combine functionalities from multiple base classes, promoting code reus and flexibility.\n",
        "\n",
        "However, it can lead to complexity and conflicts (e.g., if parent classes have methods with the same name), which Python resolves using the Method Resolution Order\n",
        "\n"
      ],
      "metadata": {
        "id": "1PXWenoJo6WO"
      }
    },
    {
      "cell_type": "markdown",
      "source": [
        "# 19.  Explain the purpose of ‘’__str__’ and ‘__repr__’ ‘ methods in Python.\n",
        "* __str__() – For users (readable output)\n",
        "Returns a user-friendly string representation of the object.\n",
        "\n",
        "Used by print() and str().\n",
        "\n",
        "*  __repr__() – For developers (unambiguous output)\n",
        "Returns a developer-friendly and unambiguous representation.\n",
        "\n",
        "Used by repr() and the interactive console.\n",
        "\n"
      ],
      "metadata": {
        "id": "DTMlnjyMnBU7"
      }
    },
    {
      "cell_type": "markdown",
      "source": [
        "# 20. What is the significance of the ‘super()’ function in Python?\n",
        " Significance of super() in Python\n",
        "The super() function is used to call methods from a parent (super) class in a subclass.\n",
        "\n",
        "* Avoids code duplication – lets you reuse parent class methods.\n",
        "\n",
        "* Supports multiple inheritance by following the Method Resolution Order (MRO).\n",
        "\n",
        "* Keeps code maintainable and extensible.\n",
        "\n",
        "\n"
      ],
      "metadata": {
        "id": "WRlgxyyyrGSR"
      }
    },
    {
      "cell_type": "markdown",
      "source": [
        "# 21.  What is the significance of the __del__ method in Python?\n",
        "The __del__() method is a destructor — it’s called automatically when an object is about to be destroyed (i.e., garbage collected).\n",
        "\n",
        "Used to perform cleanup actions (like closing files or network connections).\n",
        "\n",
        "Called when the object’s reference count reaches zero.\n",
        "\n",
        "Not guaranteed to run immediately or at all (especially in some environments like PyPy or if there are circular references).\n",
        "\n",
        "\n"
      ],
      "metadata": {
        "id": "smWhlulNrGdL"
      }
    },
    {
      "cell_type": "markdown",
      "source": [
        "# 22. What is the difference between @staticmethod and @classmethod in Python?\n",
        "staticmethod does not take `self` or `cls` and cannot access class or instance data — it’s used for utility functions.\n",
        "classmethod takes `cls` as the first argument and can access or modify class-level data.\n",
        "Both can be called using the class or an instance, but they serve different purposes.\n",
        "\n"
      ],
      "metadata": {
        "id": "Ci90yG4AsMGc"
      }
    },
    {
      "cell_type": "markdown",
      "source": [
        "# 23. How does polymorphism work in Python with inheritance?\n",
        "Polymorphism with inheritance allows child classes to override methods of a parent class.\n",
        "The same method name can behave differently depending on the object's class.\n",
        "It enables flexible and reusable code by allowing one interface to support multiple behaviors.\n"
      ],
      "metadata": {
        "id": "7jDrGzV4spCI"
      }
    },
    {
      "cell_type": "markdown",
      "source": [
        "# 24. What is method chaining in Python OOP?\n",
        "Method chaining is a technique where multiple methods are called in a single line, one after another, on the same object.\n",
        "\n",
        "🔹 Each method must return self to allow the next method to be called.\n",
        "\n",
        "\n"
      ],
      "metadata": {
        "id": "M4qm7isBspMQ"
      }
    },
    {
      "cell_type": "code",
      "source": [
        "class Person:\n",
        "    def set_name(self, name):\n",
        "        self.name = name\n",
        "        return self\n",
        "\n",
        "    def set_age(self, age):\n",
        "        self.age = age\n",
        "        return self\n",
        "\n",
        "p = Person().set_name(\"Kuldeep\").set_age(27)"
      ],
      "metadata": {
        "id": "7owYN6uvteQi"
      },
      "execution_count": null,
      "outputs": []
    },
    {
      "cell_type": "markdown",
      "source": [
        "# 25.  What is the purpose of the __call__ method in Python?\n",
        "The __call__() method lets you make an object behave like a function — you can \"call\" the object using parentheses.\n",
        "\n",
        "* To create callable objects\n",
        "\n",
        "* Useful in function wrappers, decorators, machine learning models, etc.\n"
      ],
      "metadata": {
        "id": "69UZ2y2kspZ9"
      }
    },
    {
      "cell_type": "markdown",
      "source": [
        "#1.Create a parent class Animal with a method speak() that prints a generic message. Create a child class Dog that overrides the speak() method to print \"Bark!\"."
      ],
      "metadata": {
        "id": "5_S55AW5e9iR"
      }
    },
    {
      "cell_type": "code",
      "source": [
        "class Animal:\n",
        "    def speak(self):\n",
        "        print(\"The animal makes a sound.\")\n",
        "\n",
        "class Dog(Animal):\n",
        "    def speak(self):\n",
        "        print(\"Bark!\")"
      ],
      "metadata": {
        "id": "zpNApThea9Yh"
      },
      "execution_count": 3,
      "outputs": []
    },
    {
      "cell_type": "code",
      "source": [
        "animal = Animal()\n",
        "dog = Dog()\n",
        "animal.speak()"
      ],
      "metadata": {
        "colab": {
          "base_uri": "https://localhost:8080/"
        },
        "id": "X7sk8Cv_a9lJ",
        "outputId": "11a1ffcb-1951-4565-8676-51b1bcd44743"
      },
      "execution_count": 4,
      "outputs": [
        {
          "output_type": "stream",
          "name": "stdout",
          "text": [
            "The animal makes a sound.\n"
          ]
        }
      ]
    },
    {
      "cell_type": "code",
      "source": [
        "dog.speak()"
      ],
      "metadata": {
        "colab": {
          "base_uri": "https://localhost:8080/"
        },
        "id": "1au1-ZKEa9xB",
        "outputId": "26a45c4e-a4b6-4398-f0af-e15afcd31b96"
      },
      "execution_count": 5,
      "outputs": [
        {
          "output_type": "stream",
          "name": "stdout",
          "text": [
            "Bark!\n"
          ]
        }
      ]
    },
    {
      "cell_type": "markdown",
      "source": [
        "# 2.Write a program to create an abstract class Shape with a method area(). Derive classes Circle and Rectangle from it and implement the area() me.thod in both"
      ],
      "metadata": {
        "id": "YbWVtkkafO1c"
      }
    },
    {
      "cell_type": "code",
      "source": [
        "from abc import ABC, abstractmethod\n",
        "import math\n",
        "\n",
        "class Shape(ABC):\n",
        "    @abstractmethod\n",
        "    def area(self):\n",
        "        pass\n",
        "\n",
        "class Circle(Shape):\n",
        "    def __init__(self, radius):\n",
        "        self.radius = radius\n",
        "\n",
        "    def area(self):\n",
        "        return math.pi * self.radius ** 2\n",
        "\n",
        "class Rectangle(Shape):\n",
        "    def __init__(self, width, height):\n",
        "        self.width = width\n",
        "        self.height = height\n",
        "\n",
        "    def area(self):\n",
        "        return self.width * self.height\n",
        "\n"
      ],
      "metadata": {
        "id": "FfpqCi10a92W"
      },
      "execution_count": 8,
      "outputs": []
    },
    {
      "cell_type": "code",
      "source": [
        "circle = Circle(10)\n",
        "rectangle = Rectangle(5, 10)\n",
        "print(\"Circle Area:\", circle.area())\n",
        "print(\"Rectangle Area:\", rectangle.area())\n"
      ],
      "metadata": {
        "colab": {
          "base_uri": "https://localhost:8080/"
        },
        "id": "rc6WSlnda-AX",
        "outputId": "929d40e1-d320-46b3-ba2a-fdff71dc8f83"
      },
      "execution_count": 9,
      "outputs": [
        {
          "output_type": "stream",
          "name": "stdout",
          "text": [
            "Circle Area: 314.1592653589793\n",
            "Rectangle Area: 50\n"
          ]
        }
      ]
    },
    {
      "cell_type": "markdown",
      "source": [
        " # 3.Implement a multi-level inheritance scenario where a class Vehicle has an attribute type. Derive a class Car and further derive a class ElectricCar that adds a battery attribute."
      ],
      "metadata": {
        "id": "P7bl5cX_fpnx"
      }
    },
    {
      "cell_type": "code",
      "source": [
        "# Base Class\n",
        "class Vehicle:\n",
        "    def __init__(self, vehicle_type):\n",
        "        self.type = vehicle_type\n",
        "\n",
        "    def display_type(self):\n",
        "        print(f\"Vehicle Type: {self.type}\")\n",
        "\n",
        "# Derived Class\n",
        "class Car(Vehicle):\n",
        "    def __init__(self, vehicle_type, brand):\n",
        "        super().__init__(vehicle_type)\n",
        "        self.brand = brand\n",
        "\n",
        "    def display_brand(self):\n",
        "        print(f\"Car Brand: {self.brand}\")\n",
        "\n",
        "# Further Derived Class\n",
        "class ElectricCar(Car):\n",
        "    def __init__(self, vehicle_type, brand, battery_capacity):\n",
        "        super().__init__(vehicle_type, brand)\n",
        "        self.battery = battery_capacity\n",
        "\n",
        "    def display_battery(self):\n",
        "        print(f\"Battery Capacity: {self.battery} kWh\")\n",
        "\n",
        "\n",
        "\n"
      ],
      "metadata": {
        "id": "v11CqU5Wfobk"
      },
      "execution_count": 12,
      "outputs": []
    },
    {
      "cell_type": "code",
      "source": [
        "my_tesla = ElectricCar(\"Four Wheeler\", \"Tesla\", 75)\n",
        "\n",
        "my_tesla.display_type()\n",
        "my_tesla.display_brand()\n",
        "my_tesla.display_battery()\n"
      ],
      "metadata": {
        "colab": {
          "base_uri": "https://localhost:8080/"
        },
        "id": "BwfJLv6dfoq5",
        "outputId": "0e8f60f4-83a8-4d5d-ea33-e437049e874f"
      },
      "execution_count": 13,
      "outputs": [
        {
          "output_type": "stream",
          "name": "stdout",
          "text": [
            "Vehicle Type: Four Wheeler\n",
            "Car Brand: Tesla\n",
            "Battery Capacity: 75 kWh\n"
          ]
        }
      ]
    },
    {
      "cell_type": "markdown",
      "source": [
        "# 4.  Demonstrate polymorphism by creating a base class Bird with a method fly(). Create two derived classes Sparrow and Penguin that override the fly() method."
      ],
      "metadata": {
        "id": "So9HHObDhB6b"
      }
    },
    {
      "cell_type": "code",
      "source": [
        "# Base Class\n",
        "class Bird:\n",
        "    def fly(self):\n",
        "        print(\"Some birds can fly.\")\n",
        "\n",
        "# Derived Class 1\n",
        "class Sparrow(Bird):\n",
        "    def fly(self):\n",
        "        print(\"Sparrow flies high in the sky.\")\n",
        "\n",
        "# Derived Class 2\n",
        "class Penguin(Bird):\n",
        "    def fly(self):\n",
        "        print(\"Penguins cannot fly but can swim.\")\n",
        "\n",
        "# Polymorphism in action\n",
        "def bird_fly(bird_obj):\n",
        "    bird_obj.fly()"
      ],
      "metadata": {
        "id": "FsbXrVWihCqR"
      },
      "execution_count": 16,
      "outputs": []
    },
    {
      "cell_type": "code",
      "source": [
        "sparrow = Sparrow()\n",
        "penguin = Penguin()\n",
        "bird_fly(sparrow)\n",
        "bird_fly(penguin)"
      ],
      "metadata": {
        "colab": {
          "base_uri": "https://localhost:8080/"
        },
        "id": "7b6epeokhl5S",
        "outputId": "5a6961dd-703b-4a2a-c31c-f05061f7964e"
      },
      "execution_count": 17,
      "outputs": [
        {
          "output_type": "stream",
          "name": "stdout",
          "text": [
            "Sparrow flies high in the sky.\n",
            "Penguins cannot fly but can swim.\n"
          ]
        }
      ]
    },
    {
      "cell_type": "markdown",
      "source": [
        "#5.  Write a program to demonstrate encapsulation by creating a class BankAccount with private attributes balance and methods to deposit, withdraw, and check balance."
      ],
      "metadata": {
        "id": "eFex33Qfh2aE"
      }
    },
    {
      "cell_type": "code",
      "source": [
        "class BankAccount:\n",
        "    def __init__(self, initial_balance=0):\n",
        "        self.__balance = initial_balance  # private attribute\n",
        "\n",
        "    # Method to deposit money\n",
        "    def deposit(self, amount):\n",
        "        if amount > 0:\n",
        "            self.__balance += amount\n",
        "            print(f\"Deposited ₹{amount}\")\n",
        "        else:\n",
        "            print(\"Invalid deposit amount\")\n",
        "\n",
        "    # Method to withdraw money\n",
        "    def withdraw(self, amount):\n",
        "        if 0 < amount <= self.__balance:\n",
        "            self.__balance -= amount\n",
        "            print(f\"Withdrew ₹{amount}\")\n",
        "        else:\n",
        "            print(\"Insufficient balance or invalid amount\")\n",
        "\n",
        "    # Method to check balance\n",
        "    def check_balance(self):\n",
        "        print(f\"Current Balance: ₹{self.__balance}\")\n",
        "        return self.__balance\n"
      ],
      "metadata": {
        "id": "pj7wvJ4_h3Az"
      },
      "execution_count": 23,
      "outputs": []
    },
    {
      "cell_type": "code",
      "source": [
        "account = BankAccount(10000)\n",
        "account.check_balance()\n",
        "\n",
        "account.deposit(0)\n",
        "account.withdraw(3000)\n",
        "account.check_balance()"
      ],
      "metadata": {
        "colab": {
          "base_uri": "https://localhost:8080/"
        },
        "id": "Z6MVXLInjJiK",
        "outputId": "ab6ce7a0-3109-4474-ae4d-8c0cbc4d769f"
      },
      "execution_count": 25,
      "outputs": [
        {
          "output_type": "stream",
          "name": "stdout",
          "text": [
            "Current Balance: ₹10000\n",
            "Invalid deposit amount\n",
            "Withdrew ₹3000\n",
            "Current Balance: ₹7000\n"
          ]
        },
        {
          "output_type": "execute_result",
          "data": {
            "text/plain": [
              "7000"
            ]
          },
          "metadata": {},
          "execution_count": 25
        }
      ]
    },
    {
      "cell_type": "markdown",
      "source": [
        "# 6.Demonstrate runtime polymorphism using a method play() in a base class Instrument. Derive classes Guitar and Piano that implement their own version of play()."
      ],
      "metadata": {
        "id": "0ZPo3H4Fjbhw"
      }
    },
    {
      "cell_type": "code",
      "source": [],
      "metadata": {
        "id": "hY74wUEUjdBo"
      },
      "execution_count": null,
      "outputs": []
    },
    {
      "cell_type": "code",
      "source": [],
      "metadata": {
        "id": "gCzf9FUBjdMt"
      },
      "execution_count": null,
      "outputs": []
    },
    {
      "cell_type": "code",
      "metadata": {
        "id": "47fb43b6"
      },
      "source": [
        "class Instrument:\n",
        "    def play(self):\n",
        "        print(\"The instrument makes a sound.\")\n",
        "\n",
        "class Guitar(Instrument):\n",
        "    def play(self):\n",
        "        print(\"The guitar is strumming.\")\n",
        "\n",
        "class Piano(Instrument):\n",
        "    def play(self):\n",
        "        print(\"The piano is playing a melody.\")\n",
        "\n",
        "# Function to demonstrate polymorphism\n",
        "def play_instrument(instrument):\n",
        "    instrument.play()"
      ],
      "execution_count": 26,
      "outputs": []
    },
    {
      "cell_type": "code",
      "metadata": {
        "colab": {
          "base_uri": "https://localhost:8080/"
        },
        "id": "098d5134",
        "outputId": "73e191aa-f00c-41cb-d3a8-3c92f6887043"
      },
      "source": [
        "# Create instances of the derived classes\n",
        "guitar = Guitar()\n",
        "piano = Piano()\n",
        "\n",
        "# Demonstrate polymorphism\n",
        "play_instrument(guitar)\n",
        "play_instrument(piano)"
      ],
      "execution_count": 27,
      "outputs": [
        {
          "output_type": "stream",
          "name": "stdout",
          "text": [
            "The guitar is strumming.\n",
            "The piano is playing a melody.\n"
          ]
        }
      ]
    },
    {
      "cell_type": "markdown",
      "source": [
        "#7.  Create a class MathOperations with a class method add_numbers() to add two numbers and a static method subtract_numbers() to subtract two numbers."
      ],
      "metadata": {
        "id": "B-HtfOFImbig"
      }
    },
    {
      "cell_type": "code",
      "metadata": {
        "id": "a29192d4"
      },
      "source": [
        "class MathOperations:\n",
        "    @classmethod\n",
        "    def add_numbers(cls, x, y):\n",
        "        \"\"\"Adds two numbers using a class method.\"\"\"\n",
        "        return x + y\n",
        "\n",
        "    @staticmethod\n",
        "    def subtract_numbers(x, y):\n",
        "        \"\"\"Subtracts two numbers using a static method.\"\"\"\n",
        "        return x - y"
      ],
      "execution_count": 29,
      "outputs": []
    },
    {
      "cell_type": "code",
      "metadata": {
        "colab": {
          "base_uri": "https://localhost:8080/"
        },
        "id": "0967c12e",
        "outputId": "1e75aea1-4242-49a8-fa32-4aca3a6355a9"
      },
      "source": [
        "# Using the class method\n",
        "sum_result = MathOperations.add_numbers(10, 5)\n",
        "print(f\"Sum using class method: {sum_result}\")\n",
        "\n",
        "# Using the static method\n",
        "difference_result = MathOperations.subtract_numbers(10, 5)\n",
        "print(f\"Difference using static method: {difference_result}\")"
      ],
      "execution_count": 30,
      "outputs": [
        {
          "output_type": "stream",
          "name": "stdout",
          "text": [
            "Sum using class method: 15\n",
            "Difference using static method: 5\n"
          ]
        }
      ]
    },
    {
      "cell_type": "markdown",
      "source": [
        "#8. Implement a class Person with a class method to count the total number of persons created"
      ],
      "metadata": {
        "id": "5z9ZwV4knCPP"
      }
    },
    {
      "cell_type": "code",
      "source": [
        "class Person:\n",
        "    # Class variable to count persons\n",
        "    person_count = 0\n",
        "\n",
        "    def __init__(self, name):\n",
        "        self.name = name\n",
        "        Person.person_count += 1  # Increment when a person is created\n",
        "\n",
        "    @classmethod\n",
        "    def total_persons(cls):\n",
        "        print(f\"Total persons created: {cls.person_count}\")\n",
        "\n",
        "\n",
        "p1 = Person(\"Ajay\")\n",
        "p2 = Person(\"mohit\")\n",
        "p3 = Person(name=\"anjali\")\n",
        "\n",
        "Person.total_persons()\n"
      ],
      "metadata": {
        "colab": {
          "base_uri": "https://localhost:8080/"
        },
        "id": "BSJvX2phnLPD",
        "outputId": "e4c2205d-9d2e-4352-d925-648b0112a40a"
      },
      "execution_count": 31,
      "outputs": [
        {
          "output_type": "stream",
          "name": "stdout",
          "text": [
            "Total persons created: 3\n"
          ]
        }
      ]
    },
    {
      "cell_type": "markdown",
      "source": [
        " # 9.Write a class Fraction with attributes numerator and denominator. Override the str method to display the fraction as \"numerator/denominator\"."
      ],
      "metadata": {
        "id": "794VinRlnqK5"
      }
    },
    {
      "cell_type": "code",
      "source": [],
      "metadata": {
        "id": "7XboX_6xoAad"
      },
      "execution_count": null,
      "outputs": []
    },
    {
      "cell_type": "code",
      "metadata": {
        "id": "38a9ac0e"
      },
      "source": [
        "class Fraction:\n",
        "    def __init__(self, numerator, denominator):\n",
        "        self.numerator = numerator\n",
        "        self.denominator = denominator\n",
        "\n",
        "    def __str__(self):\n",
        "        return f\"{self.numerator}/{self.denominator}\""
      ],
      "execution_count": 32,
      "outputs": []
    },
    {
      "cell_type": "code",
      "metadata": {
        "colab": {
          "base_uri": "https://localhost:8080/"
        },
        "id": "e92c22d6",
        "outputId": "bebb3725-9379-41b9-9271-8168114ae90e"
      },
      "source": [
        "my_fraction = Fraction(10, 4)\n",
        "\n",
        "# Print the object, which will use the __str__ method\n",
        "print(my_fraction)"
      ],
      "execution_count": 35,
      "outputs": [
        {
          "output_type": "stream",
          "name": "stdout",
          "text": [
            "10/4\n"
          ]
        }
      ]
    },
    {
      "cell_type": "markdown",
      "source": [
        "# 10. . Demonstrate operator overloading by creating a class Vector and overriding the add method to add two vectors."
      ],
      "metadata": {
        "id": "HrXizTvuoSg3"
      }
    },
    {
      "cell_type": "code",
      "metadata": {
        "id": "b08297ab"
      },
      "source": [
        "class Vector:\n",
        "    def __init__(self, x, y):\n",
        "        self.x = x\n",
        "        self.y = y\n",
        "\n",
        "    def __str__(self):\n",
        "        return f\"Vector({self.x}, {self.y})\"\n",
        "\n",
        "    def __add__(self, other):\n",
        "        if isinstance(other, Vector):\n",
        "            return Vector(self.x + other.x, self.y + other.y)\n",
        "        else:\n",
        "            raise TypeError(\"Can only add a Vector object to another Vector object\")"
      ],
      "execution_count": 36,
      "outputs": []
    },
    {
      "cell_type": "code",
      "metadata": {
        "colab": {
          "base_uri": "https://localhost:8080/"
        },
        "id": "26e957cb",
        "outputId": "dfc4e89d-e13f-4112-8f00-f2731d471b9d"
      },
      "source": [
        "vector1 = Vector(2, 3)\n",
        "vector2 = Vector(5, 7)\n",
        "result_vector = vector1 + vector2\n",
        "print(f\"Vector 1: {vector1}\")\n",
        "print(f\"Vector 2: {vector2}\")\n",
        "print(f\"Result of addition: {result_vector}\")"
      ],
      "execution_count": 38,
      "outputs": [
        {
          "output_type": "stream",
          "name": "stdout",
          "text": [
            "Vector 1: Vector(2, 3)\n",
            "Vector 2: Vector(5, 7)\n",
            "Result of addition: Vector(7, 10)\n"
          ]
        }
      ]
    },
    {
      "cell_type": "markdown",
      "source": [
        "# 11. Create a class Person with attributes name and age. Add a method greet() that prints \"Hello, my name is {name} and I am {age} years old\".\n",
        "\n"
      ],
      "metadata": {
        "id": "8Jz55_eso1SI"
      }
    },
    {
      "cell_type": "code",
      "metadata": {
        "id": "d3346c70"
      },
      "source": [
        "class Person:\n",
        "    def __init__(self, name, age):\n",
        "        self.name = name\n",
        "        self.age = age\n",
        "\n",
        "    def greet(self):\n",
        "        print(f\"Hello, my name is {self.name} and I am {self.age} years old\")"
      ],
      "execution_count": 39,
      "outputs": []
    },
    {
      "cell_type": "code",
      "metadata": {
        "colab": {
          "base_uri": "https://localhost:8080/"
        },
        "id": "f1bfcd7f",
        "outputId": "5298b41a-cd34-4571-9743-fde2baa46e42"
      },
      "source": [
        "person1 = Person(\"Kuldeep\", 28)\n",
        "\n",
        "person1.greet()"
      ],
      "execution_count": 41,
      "outputs": [
        {
          "output_type": "stream",
          "name": "stdout",
          "text": [
            "Hello, my name is Kuldeep and I am 28 years old\n"
          ]
        }
      ]
    },
    {
      "cell_type": "markdown",
      "source": [
        "# 12. . Implement a class Student with attributes name and grades. Create a method average_grade() to compute the average of the grades."
      ],
      "metadata": {
        "id": "b8py-Qw1piLx"
      }
    },
    {
      "cell_type": "code",
      "metadata": {
        "id": "0125ddda"
      },
      "source": [
        "class Student:\n",
        "    def __init__(self, name, grades):\n",
        "        self.name = name\n",
        "        self.grades = grades\n",
        "\n",
        "    def average_grade(self):\n",
        "        if not self.grades:\n",
        "            return 0  # Return 0 if there are no grades\n",
        "        return sum(self.grades) / len(self.grades)"
      ],
      "execution_count": 42,
      "outputs": []
    },
    {
      "cell_type": "code",
      "metadata": {
        "colab": {
          "base_uri": "https://localhost:8080/"
        },
        "id": "d36a0254",
        "outputId": "79c51288-2298-44c3-ae43-c454065489da"
      },
      "source": [
        "student1 = Student(\"ajay\", [85, 90, 78, 92, 88])\n",
        "average = student1.average_grade()\n",
        "print(f\"The average grade for {student1.name} is: {average}\")\n",
        "student2 = Student(\"anjali\", [])\n",
        "average2 = student2.average_grade()\n",
        "print(f\"The average grade for {student2.name} is: {average2}\")"
      ],
      "execution_count": 44,
      "outputs": [
        {
          "output_type": "stream",
          "name": "stdout",
          "text": [
            "The average grade for ajay is: 86.6\n",
            "The average grade for anjali is: 0\n"
          ]
        }
      ]
    },
    {
      "cell_type": "markdown",
      "source": [
        "# 13. . Create a class Rectangle with methods set_dimensions() to set the dimensions and area() to calculate the area."
      ],
      "metadata": {
        "id": "hgLES8OJqVJH"
      }
    },
    {
      "cell_type": "code",
      "metadata": {
        "id": "6f0ea1c9"
      },
      "source": [
        "class Rectangle:\n",
        "    def __init__(self, width=0, height=0):\n",
        "        self.width = width\n",
        "        self.height = height\n",
        "\n",
        "    def set_dimensions(self, width, height):\n",
        "        self.width = width\n",
        "        self.height = height\n",
        "\n",
        "    def area(self):\n",
        "        return self.width * self.height"
      ],
      "execution_count": 45,
      "outputs": []
    },
    {
      "cell_type": "code",
      "metadata": {
        "colab": {
          "base_uri": "https://localhost:8080/"
        },
        "id": "96a2cf99",
        "outputId": "d6788501-904e-4f3a-b9a9-afcce8ae1292"
      },
      "source": [
        "rectangle1 = Rectangle()\n",
        "rectangle1.set_dimensions(10, 5)\n",
        "\n",
        "area = rectangle1.area()\n",
        "print(f\"The area of the rectangle is: {area}\")\n",
        "\n",
        "rectangle2 = Rectangle(7, 3)\n",
        "print(f\"The area of rectangle2 is: {rectangle2.area()}\")"
      ],
      "execution_count": 47,
      "outputs": [
        {
          "output_type": "stream",
          "name": "stdout",
          "text": [
            "The area of the rectangle is: 50\n",
            "The area of rectangle2 is: 21\n"
          ]
        }
      ]
    },
    {
      "cell_type": "markdown",
      "source": [
        "# 14.  Create a class Employee with a method calculate_salary() that computes the salary based on hours worked and hourly rate. Create a derived class Manager that adds a bonus to the salary"
      ],
      "metadata": {
        "id": "YCrIYX0Sq2v1"
      }
    },
    {
      "cell_type": "code",
      "source": [
        "# Base Class\n",
        "class Employee:\n",
        "    def __init__(self, name, hours_worked, hourly_rate):\n",
        "        self.name = name\n",
        "        self.hours_worked = hours_worked\n",
        "        self.hourly_rate = hourly_rate\n",
        "\n",
        "    def calculate_salary(self):\n",
        "        salary = self.hours_worked * self.hourly_rate\n",
        "        return salary\n",
        "\n",
        "# Derived Class\n",
        "class Manager(Employee):\n",
        "    def __init__(self, name, hours_worked, hourly_rate, bonus):\n",
        "        super().__init__(name, hours_worked, hourly_rate)\n",
        "        self.bonus = bonus\n",
        "\n",
        "    def calculate_salary(self):\n",
        "        base_salary = super().calculate_salary()\n",
        "        total_salary = base_salary + self.bonus\n",
        "        return total_salary"
      ],
      "metadata": {
        "id": "KkTTU8YWrEl7"
      },
      "execution_count": 49,
      "outputs": []
    },
    {
      "cell_type": "code",
      "source": [
        "emp = Employee(\"Kuldeep\", 40, 200)\n",
        "print(f\"{emp.name}'s Salary: ₹{emp.calculate_salary()}\")\n",
        "\n",
        "mgr = Manager(\"shailesh\", 40, 300, 5000)\n",
        "print(f\"{mgr.name}'s Salary with Bonus: ₹{mgr.calculate_salary()}\")\n"
      ],
      "metadata": {
        "colab": {
          "base_uri": "https://localhost:8080/"
        },
        "id": "H_JjIfKQrJU7",
        "outputId": "cc814a36-eaf9-4c8d-cbf8-6d926066f9ce"
      },
      "execution_count": 51,
      "outputs": [
        {
          "output_type": "stream",
          "name": "stdout",
          "text": [
            "Kuldeep's Salary: ₹8000\n",
            "shailesh's Salary with Bonus: ₹17000\n"
          ]
        }
      ]
    },
    {
      "cell_type": "markdown",
      "source": [
        "# 15.  Create a class Product with attributes name, price, and quantity. Implement a method total_price() that calculates the total price of the product."
      ],
      "metadata": {
        "id": "_CHW43P_r7Fc"
      }
    },
    {
      "cell_type": "code",
      "metadata": {
        "id": "97603b2e"
      },
      "source": [
        "class Product:\n",
        "    def __init__(self, name, price, quantity):\n",
        "        self.name = name\n",
        "        self.price = price\n",
        "        self.quantity = quantity\n",
        "\n",
        "    def total_price(self):\n",
        "        return self.price * self.quantity"
      ],
      "execution_count": 52,
      "outputs": []
    },
    {
      "cell_type": "code",
      "metadata": {
        "colab": {
          "base_uri": "https://localhost:8080/"
        },
        "id": "0d3a584b",
        "outputId": "be719cf1-788c-4027-aeb2-9ad1270b4d93"
      },
      "source": [
        "# Create a Product object\n",
        "product1 = Product(\"Laptop\", 1200, 2)\n",
        "\n",
        "# Calculate and print the total price\n",
        "total = product1.total_price()\n",
        "print(f\"The total price for {product1.name} ({product1.quantity} items) is: ${total}\")\n",
        "\n",
        "# Create another Product object\n",
        "product2 = Product(\"Mouse\", 25, 10)\n",
        "print(f\"The total price for {product2.name} ({product2.quantity} items) is: ${product2.total_price()}\")"
      ],
      "execution_count": 53,
      "outputs": [
        {
          "output_type": "stream",
          "name": "stdout",
          "text": [
            "The total price for Laptop (2 items) is: $2400\n",
            "The total price for Mouse (10 items) is: $250\n"
          ]
        }
      ]
    },
    {
      "cell_type": "markdown",
      "source": [
        "# 16. Create a class Animal with an abstract method sound(). Create two derived classes Cow and Sheep that implement the sound() method."
      ],
      "metadata": {
        "id": "-q5-J_X2sfeI"
      }
    },
    {
      "cell_type": "code",
      "metadata": {
        "id": "13a3aa80"
      },
      "source": [
        "from abc import ABC, abstractmethod\n",
        "\n",
        "class Animal(ABC):\n",
        "    @abstractmethod\n",
        "    def sound(self):\n",
        "        pass\n",
        "\n",
        "class Cow(Animal):\n",
        "    def sound(self):\n",
        "        return \"Moo\"\n",
        "\n",
        "class Sheep(Animal):\n",
        "    def sound(self):\n",
        "        return \"Baa\""
      ],
      "execution_count": 54,
      "outputs": []
    },
    {
      "cell_type": "code",
      "metadata": {
        "colab": {
          "base_uri": "https://localhost:8080/"
        },
        "id": "bfd33267",
        "outputId": "c2441a85-4db6-4c22-d945-2138db79bce3"
      },
      "source": [
        "cow = Cow()\n",
        "sheep = Sheep()\n",
        "print(f\"A cow says: {cow.sound()}\")\n",
        "print(f\"A sheep says: {sheep.sound()}\")"
      ],
      "execution_count": 55,
      "outputs": [
        {
          "output_type": "stream",
          "name": "stdout",
          "text": [
            "A cow says: Moo\n",
            "A sheep says: Baa\n"
          ]
        }
      ]
    },
    {
      "cell_type": "markdown",
      "source": [
        "# 17. Create a class Book with attributes title, author, and year_published. Add a method get_book_info() that returns a formatted string with the book's details"
      ],
      "metadata": {
        "id": "5NwHiqmMtAIQ"
      }
    },
    {
      "cell_type": "code",
      "metadata": {
        "id": "b6e29e5e"
      },
      "source": [
        "class Book:\n",
        "    def __init__(self, title, author, year_published):\n",
        "        self.title = title\n",
        "        self.author = author\n",
        "        self.year_published = year_published\n",
        "\n",
        "    def get_book_info(self):\n",
        "        return f\"Title: {self.title}, Author: {self.author}, Year Published: {self.year_published}\""
      ],
      "execution_count": 56,
      "outputs": []
    },
    {
      "cell_type": "code",
      "source": [
        "book1 = Book(\"godan\", \"Munshi Prem Chand\", 1912)\n",
        "\n",
        "book_info = book1.get_book_info()\n",
        "print(book_info)\n",
        "\n",
        "book2 = Book(\"Ice and fire\", \"jon snow\", 2014)\n",
        "print(book2.get_book_info())"
      ],
      "metadata": {
        "colab": {
          "base_uri": "https://localhost:8080/"
        },
        "id": "SqCd9jB8t3Bg",
        "outputId": "f8bf0f91-fc57-40f8-9b3d-9043bf666420"
      },
      "execution_count": 60,
      "outputs": [
        {
          "output_type": "stream",
          "name": "stdout",
          "text": [
            "Title: godan, Author: Munshi Prem Chand, Year Published: 1912\n",
            "Title: Ice and fire, Author: jon snow, Year Published: 2014\n"
          ]
        }
      ]
    },
    {
      "cell_type": "markdown",
      "source": [
        "# 18. . Create a class House with attributes address and price. Create a derived class Mansion that adds an attribute number_of_rooms."
      ],
      "metadata": {
        "id": "eua8hHYrt5Eb"
      }
    },
    {
      "cell_type": "code",
      "metadata": {
        "id": "65a0f28a"
      },
      "source": [
        "class House:\n",
        "    def __init__(self, address, price):\n",
        "        self.address = address\n",
        "        self.price = price\n",
        "\n",
        "    def get_house_info(self):\n",
        "        return f\"Address: {self.address}, Price: ${self.price}\"\n",
        "\n",
        "class Mansion(House):\n",
        "    def __init__(self, address, price, number_of_rooms):\n",
        "        super().__init__(address, price)\n",
        "        self.number_of_rooms = number_of_rooms\n",
        "\n",
        "    def get_mansion_info(self):\n",
        "        house_info = super().get_house_info()\n",
        "        return f\"{house_info}, Number of Rooms: {self.number_of_rooms}\""
      ],
      "execution_count": 61,
      "outputs": []
    },
    {
      "cell_type": "code",
      "metadata": {
        "colab": {
          "base_uri": "https://localhost:8080/"
        },
        "id": "fa7cda86",
        "outputId": "d4ba2081-780b-4884-b9f0-aec533b96a7e"
      },
      "source": [
        "my_house = House(\"123 Main St\", 300000)\n",
        "print(f\"House Info: {my_house.get_house_info()}\")\n",
        "\n",
        "my_mansion = Mansion(\"456 Oak Ave\", 1500000, 15)\n",
        "print(f\"Mansion Info: {my_mansion.get_mansion_info()}\")"
      ],
      "execution_count": 62,
      "outputs": [
        {
          "output_type": "stream",
          "name": "stdout",
          "text": [
            "House Info: Address: 123 Main St, Price: $300000\n",
            "Mansion Info: Address: 456 Oak Ave, Price: $1500000, Number of Rooms: 15\n"
          ]
        }
      ]
    }
  ]
}